{
  "nbformat": 4,
  "nbformat_minor": 0,
  "metadata": {
    "colab": {
      "provenance": [],
      "authorship_tag": "ABX9TyPgYoveQ1qvA01WO+xTHpP2",
      "include_colab_link": true
    },
    "kernelspec": {
      "name": "python3",
      "display_name": "Python 3"
    },
    "language_info": {
      "name": "python"
    }
  },
  "cells": [
    {
      "cell_type": "markdown",
      "metadata": {
        "id": "view-in-github",
        "colab_type": "text"
      },
      "source": [
        "<a href=\"https://colab.research.google.com/github/jessicaca0826/Python_exercise/blob/main/1672_Richest_Customer_Wealth.ipynb\" target=\"_parent\"><img src=\"https://colab.research.google.com/assets/colab-badge.svg\" alt=\"Open In Colab\"/></a>"
      ]
    },
    {
      "cell_type": "markdown",
      "source": [
        "You are given an m x n integer grid accounts where accounts[i][j] is the amount of money the i​​​​​​​​​​​th​​​​ customer has in the j​​​​​​​​​​​th​​​​ bank.\n",
        "\n",
        "Return the wealth that the richest customer has.\n",
        "\n",
        "A customer's wealth is the amount of money they have in all their bank accounts. The richest customer is the customer that has the maximum wealth.\n",
        "\n",
        "\n",
        "\n",
        "Example 1:\n",
        "\n",
        "Input: accounts = [[1,2,3],[3,2,1]]\n",
        "\n",
        "Output: 6\n",
        "\n",
        "Explanation:\n",
        "\n",
        "1st customer has wealth = 1 + 2 + 3 = 6\n",
        "\n",
        "2nd customer has wealth = 3 + 2 + 1 = 6\n",
        "\n",
        "Both customers are considered the richest with a wealth of 6 each, so return 6.\n",
        "\n",
        "Example 2:\n",
        "\n",
        "Input: accounts = [[1,5],[7,3],[3,5]]\n",
        "\n",
        "Output: 10\n",
        "\n",
        "Explanation:\n",
        "\n",
        "1st customer has wealth = 6\n",
        "\n",
        "2nd customer has wealth = 10\n",
        "\n",
        "3rd customer has wealth = 8\n",
        "\n",
        "The 2nd customer is the richest with a wealth of 10.\n",
        "\n",
        "Example 3:\n",
        "\n",
        "Input: accounts = [[2,8,7],[7,1,3],[1,9,5]]\n",
        "\n",
        "Output: 17"
      ],
      "metadata": {
        "id": "5_PmQCow2ch6"
      }
    },
    {
      "cell_type": "code",
      "source": [
        "# sol 1\n",
        "# time complexity=O(m*n)\n",
        "\n",
        "def maximumWealth(accounts):\n",
        "  max_wealth = 0\n",
        "  for i, account in enumerate(accounts):\n",
        "    sum_wealth = 0\n",
        "    for j in account:\n",
        "      sum_wealth += j\n",
        "    if sum_wealth >= max_wealth:\n",
        "      max_wealth = sum_wealth\n",
        "  return max_wealth\n",
        "\n",
        "print(maximumWealth([[1,2,3],[3,2,1]]))\n",
        "print(maximumWealth([[1,5],[7,3],[3,5]]))\n",
        "print(maximumWealth([[2,8,7],[7,1,3],[1,9,5]]))"
      ],
      "metadata": {
        "colab": {
          "base_uri": "https://localhost:8080/"
        },
        "id": "2HSRf1_52_vc",
        "outputId": "c0d4d1da-9aa5-4e3d-e4e9-f2f08d444ec2"
      },
      "execution_count": 1,
      "outputs": [
        {
          "output_type": "stream",
          "name": "stdout",
          "text": [
            "6\n",
            "10\n",
            "17\n"
          ]
        }
      ]
    },
    {
      "cell_type": "code",
      "source": [
        "def maximumWealth(accounts):\n",
        "  max_wealth = 0\n",
        "  for i, account in enumerate(accounts):\n",
        "    sum_wealth=sum(account)\n",
        "    if sum_wealth>=max_wealth:\n",
        "      max_wealth=sum_wealth\n",
        "  return max_wealth\n",
        "\n",
        "print(maximumWealth([[1,2,3],[3,2,1]]))\n",
        "print(maximumWealth([[1,5],[7,3],[3,5]]))\n",
        "print(maximumWealth([[2,8,7],[7,1,3],[1,9,5]]))\n"
      ],
      "metadata": {
        "colab": {
          "base_uri": "https://localhost:8080/"
        },
        "id": "0T16qtip9nKS",
        "outputId": "aad3905e-e082-4a6d-c42e-7c6292078959"
      },
      "execution_count": 2,
      "outputs": [
        {
          "output_type": "stream",
          "name": "stdout",
          "text": [
            "6\n",
            "10\n",
            "17\n"
          ]
        }
      ]
    }
  ]
}