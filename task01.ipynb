{
  "nbformat": 4,
  "nbformat_minor": 0,
  "metadata": {
    "colab": {
      "provenance": [],
      "authorship_tag": "ABX9TyOQ5IAYiQf3u3z6PZ12yZd1",
      "include_colab_link": true
    },
    "kernelspec": {
      "name": "python3",
      "display_name": "Python 3"
    },
    "language_info": {
      "name": "python"
    }
  },
  "cells": [
    {
      "cell_type": "markdown",
      "metadata": {
        "id": "view-in-github",
        "colab_type": "text"
      },
      "source": [
        "<a href=\"https://colab.research.google.com/github/jessicaca0826/Python_exercise/blob/main/task01.ipynb\" target=\"_parent\"><img src=\"https://colab.research.google.com/assets/colab-badge.svg\" alt=\"Open In Colab\"/></a>"
      ]
    },
    {
      "cell_type": "code",
      "execution_count": 1,
      "metadata": {
        "colab": {
          "base_uri": "https://localhost:8080/"
        },
        "id": "3TfMxFERdd3l",
        "outputId": "21cd98d3-d267-4041-bb60-f1a56291b16c"
      },
      "outputs": [
        {
          "output_type": "stream",
          "name": "stdout",
          "text": [
            "Input: Hello World\n",
            "Hello World\n",
            "Hello World\n"
          ]
        }
      ],
      "source": [
        "x=input('Input: ')\n",
        "print(x)\n",
        "print('Hello World')"
      ]
    },
    {
      "cell_type": "code",
      "source": [
        "#請試著建立一個Python程式碼，試著在畫面上印出「Hello _______」，底線部分由使用者自行輸入。\n",
        "s=input('Please enter a word: ')\n",
        "prefix='Hello '\n",
        "print('1. '+prefix+s)\n",
        "print('2.',prefix,s)\n",
        "\n",
        "# str.join(iterable)\n",
        "# 用於將序列中的元素以指定的字元連結，並產生一個新的字串\n",
        "word=['Hello']\n",
        "word.append(s)\n",
        "print('3.',' '.join(word))\n",
        "\n"
      ],
      "metadata": {
        "colab": {
          "base_uri": "https://localhost:8080/"
        },
        "id": "CqYuG4lRecgW",
        "outputId": "93604e2b-2fe8-4652-91a5-0ef14e796715"
      },
      "execution_count": 13,
      "outputs": [
        {
          "output_type": "stream",
          "name": "stdout",
          "text": [
            "Please enter a word: world\n",
            "1. Hello world\n",
            "2. Hello  world\n",
            "3. Hello world\n"
          ]
        }
      ]
    },
    {
      "cell_type": "code",
      "source": [
        "from posixpath import join\n",
        "help(join)"
      ],
      "metadata": {
        "colab": {
          "base_uri": "https://localhost:8080/"
        },
        "id": "3527Td3Zg2ir",
        "outputId": "0f5e50cd-7615-4f01-cedc-72ac13a65d4b"
      },
      "execution_count": 7,
      "outputs": [
        {
          "output_type": "stream",
          "name": "stdout",
          "text": [
            "Help on function join in module posixpath:\n",
            "\n",
            "join(a, *p)\n",
            "    Join two or more pathname components, inserting '/' as needed.\n",
            "    If any component is an absolute path, all previous path components\n",
            "    will be discarded.  An empty last part will result in a path that\n",
            "    ends with a separator.\n",
            "\n"
          ]
        }
      ]
    }
  ]
}