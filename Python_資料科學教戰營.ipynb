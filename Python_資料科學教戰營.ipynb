{
  "nbformat": 4,
  "nbformat_minor": 0,
  "metadata": {
    "colab": {
      "provenance": [],
      "authorship_tag": "ABX9TyMvbtllGgNM3BEEWK0ao6aL",
      "include_colab_link": true
    },
    "kernelspec": {
      "name": "python3",
      "display_name": "Python 3"
    },
    "language_info": {
      "name": "python"
    }
  },
  "cells": [
    {
      "cell_type": "markdown",
      "metadata": {
        "id": "view-in-github",
        "colab_type": "text"
      },
      "source": [
        "<a href=\"https://colab.research.google.com/github/jessicaca0826/Python_exercise/blob/main/Python_%E8%B3%87%E6%96%99%E7%A7%91%E5%AD%B8%E6%95%99%E6%88%B0%E7%87%9F.ipynb\" target=\"_parent\"><img src=\"https://colab.research.google.com/assets/colab-badge.svg\" alt=\"Open In Colab\"/></a>"
      ]
    },
    {
      "cell_type": "code",
      "execution_count": null,
      "metadata": {
        "colab": {
          "base_uri": "https://localhost:8080/"
        },
        "id": "3TfMxFERdd3l",
        "outputId": "21cd98d3-d267-4041-bb60-f1a56291b16c"
      },
      "outputs": [
        {
          "output_type": "stream",
          "name": "stdout",
          "text": [
            "Input: Hello World\n",
            "Hello World\n",
            "Hello World\n"
          ]
        }
      ],
      "source": [
        "x=input('Input: ')\n",
        "print(x)\n",
        "print('Hello World')"
      ]
    },
    {
      "cell_type": "code",
      "source": [
        "#請試著建立一個Python程式碼，試著在畫面上印出「Hello _______」，底線部分由使用者自行輸入。\n",
        "s=input('Please enter a word: ')\n",
        "prefix='Hello'\n",
        "print('1. '+prefix+\" \"+s)\n",
        "print('2.',prefix,s)\n",
        "\n",
        "# str.join(iterable)\n",
        "# 用於將序列中的元素以指定的字元連結，並產生一個新的字串\n",
        "word=['Hello']\n",
        "word.append(s)\n",
        "print('3.',' '.join(word))\n",
        "\n"
      ],
      "metadata": {
        "colab": {
          "base_uri": "https://localhost:8080/"
        },
        "id": "CqYuG4lRecgW",
        "outputId": "03c73ff0-439a-4df5-c719-45ef20c3ff11"
      },
      "execution_count": null,
      "outputs": [
        {
          "output_type": "stream",
          "name": "stdout",
          "text": [
            "Please enter a word: world\n",
            "1. Hello world\n",
            "2. Hello world\n",
            "3. Hello world\n"
          ]
        }
      ]
    },
    {
      "cell_type": "markdown",
      "source": [
        "1. 請問「=」運算的行為的是什麼？以下程式碼會印出的結果是什麼？\n",
        "\n",
        "x = 123\n",
        "y = 456\n",
        "\n",
        "x = y\n",
        "y = 789\n",
        "\n",
        "print(x)\n",
        "print(y)\n",
        "\n",
        "*   '='表示賦值，將等號右邊的值存入等號左邊的變數中\n",
        "*   print(x)印出456、print(y)印出789\n",
        "\n",
        "2. 在 Python 中，「*」跟「**」運算分別代表什麼，哪一個運算優先順序比較高？\n",
        "\n",
        "*為乘法運算子，**為次方運算子，次方運算子的優先順序較高\n",
        "\n",
        "3. 在 Python 中，請問「/」跟「//」運算分別代表什麼，哪一個運算優先順序比較高？\n",
        "\n",
        "/為除法運算子，//為整數除法運算子，兩個運算子的優先順序一樣高\n",
        "\n",
        "4. 該如何把「4.3」變成整數型態？該如何把「3」變成浮點數型態呢？\n",
        "\n",
        "可以使用int()函式將浮點數變成整數，可以使用float()函式將整數變成浮點數\n",
        "\n",
        "5. 如果在程式中看到這個錯誤「NameError: name 'n' is not defined」可能的原因是什麼？\n",
        "\n",
        "變數n還沒被定義"
      ],
      "metadata": {
        "id": "7DehSpYPFOeP"
      }
    },
    {
      "cell_type": "code",
      "source": [
        "help(eval)"
      ],
      "metadata": {
        "colab": {
          "base_uri": "https://localhost:8080/"
        },
        "id": "vJOP-UgiK6Q5",
        "outputId": "b2b4fe0d-ca75-4132-f2e7-417aabe43bc7"
      },
      "execution_count": 5,
      "outputs": [
        {
          "output_type": "stream",
          "name": "stdout",
          "text": [
            "Help on built-in function eval in module builtins:\n",
            "\n",
            "eval(source, globals=None, locals=None, /)\n",
            "    Evaluate the given source in the context of globals and locals.\n",
            "    \n",
            "    The source may be a string representing a Python expression\n",
            "    or a code object as returned by compile().\n",
            "    The globals must be a dictionary and locals can be any mapping,\n",
            "    defaulting to the current globals and locals.\n",
            "    If only globals is given, locals defaults to it.\n",
            "\n"
          ]
        }
      ]
    },
    {
      "cell_type": "code",
      "source": [
        "#練習：讓使用者輸入兩個數字，並且將輸出的結果加總後印出。\n",
        "\n",
        "# Requirements：\n",
        "#1. 輸入分別輸入兩個數字存到 x, y 變數\n",
        "#2. 請將 x 和 y 變數加總後存入 sum 變數\n",
        "#3. 在畫面上印出 sum 的結果\n",
        "# Sample Input： 123 456.789 ← 使用者輸入\n",
        "# Sample Output： 579.789 ← 畫面輸出\n",
        "\n",
        "x, y = eval(input('Please enter the first number:')), eval(input('Please enter the second number:'))\n",
        "print('The sum of the number is',x+y)\n",
        "\n"
      ],
      "metadata": {
        "colab": {
          "base_uri": "https://localhost:8080/"
        },
        "id": "4W8_7JemFMZx",
        "outputId": "6b2bc1d7-cfee-4558-e484-a0818bcc73e9"
      },
      "execution_count": 7,
      "outputs": [
        {
          "output_type": "stream",
          "name": "stdout",
          "text": [
            "Please enter the first number:123.456\n",
            "Please enter the second number:456.789\n",
            "The sum of the number is 580.245\n"
          ]
        }
      ]
    },
    {
      "cell_type": "code",
      "source": [
        "# 練習：請輸入兩個整數存入變數 a, b ，利用程式將兩個變數當中的數值進行交換。\n",
        "\n",
        "# Requirements：\n",
        "#1. 輸入兩個正整數存入變數 a, b\n",
        "#2. 請輸出 a, b 變數內容交換後的結果（不是輸出順序交換而已）\n",
        "#3. 程式當中不可以使用 if 或 loop\n",
        "# Sample Input： 5 10 ← 使用者輸入\n",
        "# Sample Output： 10 5 ← 畫面輸出\n",
        "\n",
        "a,b=int(input('Please enter the first integer a:')),int(input('Please enter the second integer b:'))\n",
        "print('a==',a,'b=',b)\n",
        "a,b=b,a\n",
        "print('Reversed:','a==',a,'b=',b)"
      ],
      "metadata": {
        "colab": {
          "base_uri": "https://localhost:8080/"
        },
        "id": "Jr1jPcWLMYrE",
        "outputId": "24f91638-13f7-4954-87a8-a9a6a534d334"
      },
      "execution_count": 10,
      "outputs": [
        {
          "output_type": "stream",
          "name": "stdout",
          "text": [
            "Please enter the first integer a:5\n",
            "Please enter the second integer b:10\n",
            "a== 5 b= 10\n",
            "Reversed: a== 10 b= 5\n"
          ]
        }
      ]
    }
  ]
}