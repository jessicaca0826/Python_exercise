{
  "nbformat": 4,
  "nbformat_minor": 0,
  "metadata": {
    "colab": {
      "provenance": [],
      "authorship_tag": "ABX9TyMn+EZaAnGPGJS4W3DwiIrb",
      "include_colab_link": true
    },
    "kernelspec": {
      "name": "python3",
      "display_name": "Python 3"
    },
    "language_info": {
      "name": "python"
    }
  },
  "cells": [
    {
      "cell_type": "markdown",
      "metadata": {
        "id": "view-in-github",
        "colab_type": "text"
      },
      "source": [
        "<a href=\"https://colab.research.google.com/github/jessicaca0826/Python_exercise/blob/main/1480_Running_Sum_of_1D_Array.ipynb\" target=\"_parent\"><img src=\"https://colab.research.google.com/assets/colab-badge.svg\" alt=\"Open In Colab\"/></a>"
      ]
    },
    {
      "cell_type": "markdown",
      "source": [
        "Given an array nums. We define a running sum of an array as runningSum[i] = sum(nums[0]…nums[i]).\n",
        "\n",
        "Return the running sum of nums.\n",
        "\n",
        "\n",
        "\n",
        "Example 1:\n",
        "\n",
        "Input: nums = [1,2,3,4]\n",
        "\n",
        "Output: [1,3,6,10]\n",
        "\n",
        "Explanation: Running sum is obtained as follows: [1, 1+2, 1+2+3, 1+2+3+4].\n",
        "\n",
        "Example 2:\n",
        "\n",
        "Input: nums = [1,1,1,1,1]\n",
        "\n",
        "Output: [1,2,3,4,5]\n",
        "\n",
        "Explanation: Running sum is obtained as follows: [1, 1+1, 1+1+1, 1+1+1+1, 1+1+1+1].\n",
        "\n",
        "Example 3:\n",
        "\n",
        "Input: nums = [3,1,2,10,1]\n",
        "\n",
        "Output: [3,4,6,16,17]"
      ],
      "metadata": {
        "id": "7iF7jNQyq_W-"
      }
    },
    {
      "cell_type": "code",
      "source": [
        "# sol 1\n",
        "# time complexity=O(n^2)\n",
        "def runningSum(nums):\n",
        "  result=[]\n",
        "  for i in range(len(nums)):\n",
        "    sum=0\n",
        "    for j in range(i+1):\n",
        "      sum+=nums[j]\n",
        "    result.append(sum)\n",
        "  return result\n",
        "\n",
        "print(runningSum([3,1,2,10,1]))\n",
        "print(runningSum([1,1,1,1,1]))\n",
        "print(runningSum([1,2,3,4]))"
      ],
      "metadata": {
        "colab": {
          "base_uri": "https://localhost:8080/"
        },
        "id": "0WAiJ_69rWtF",
        "outputId": "d89b5874-bd5a-4073-847f-742991b0265f"
      },
      "execution_count": null,
      "outputs": [
        {
          "output_type": "stream",
          "name": "stdout",
          "text": [
            "[3, 4, 6, 16, 17]\n",
            "[1, 2, 3, 4, 5]\n",
            "[1, 3, 6, 10]\n"
          ]
        }
      ]
    },
    {
      "cell_type": "code",
      "source": [
        "# sol 2\n",
        "# time complexity=O(n)\n",
        "def runningSum(nums):\n",
        "  result=[]\n",
        "  for i,v in enumerate(nums):\n",
        "    if i==0:\n",
        "      result.append(v)\n",
        "    else:\n",
        "      result.append(result[i-1]+v)\n",
        "  return result\n",
        "\n",
        "print(runningSum([3,1,2,10,1]))\n",
        "print(runningSum([1,1,1,1,1]))\n",
        "print(runningSum([1,2,3,4]))"
      ],
      "metadata": {
        "colab": {
          "base_uri": "https://localhost:8080/"
        },
        "id": "41KE1wImsYte",
        "outputId": "c62530b3-3643-4184-89c9-d0f2be8665cd"
      },
      "execution_count": null,
      "outputs": [
        {
          "output_type": "stream",
          "name": "stdout",
          "text": [
            "[3, 4, 6, 16, 17]\n",
            "[1, 2, 3, 4, 5]\n",
            "[1, 3, 6, 10]\n"
          ]
        }
      ]
    },
    {
      "cell_type": "code",
      "source": [
        "# sol 3\n",
        "def runningSum(nums):\n",
        "  result={}\n",
        "  for i,v in enumerate(nums):\n",
        "    if i==0:\n",
        "      result[i]=v\n",
        "    else:\n",
        "      result[i]=result[i-1]+v\n",
        "  return list(result.values())\n",
        "\n",
        "\n",
        "print(runningSum([3,1,2,10,1]))\n",
        "print(runningSum([1,1,1,1,1]))\n",
        "print(runningSum([1,2,3,4]))"
      ],
      "metadata": {
        "colab": {
          "base_uri": "https://localhost:8080/"
        },
        "id": "hpqKrO0YzJRH",
        "outputId": "8fd16050-5bde-4bca-82e6-33eed706ab92"
      },
      "execution_count": null,
      "outputs": [
        {
          "output_type": "stream",
          "name": "stdout",
          "text": [
            "[3, 4, 6, 16, 17]\n",
            "[1, 2, 3, 4, 5]\n",
            "[1, 3, 6, 10]\n"
          ]
        }
      ]
    }
  ]
}