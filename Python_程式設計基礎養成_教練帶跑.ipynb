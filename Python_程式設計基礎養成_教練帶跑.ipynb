{
  "nbformat": 4,
  "nbformat_minor": 0,
  "metadata": {
    "colab": {
      "provenance": [],
      "authorship_tag": "ABX9TyOjSYYgtH/XyZb8KQsT4EUL",
      "include_colab_link": true
    },
    "kernelspec": {
      "name": "python3",
      "display_name": "Python 3"
    },
    "language_info": {
      "name": "python"
    }
  },
  "cells": [
    {
      "cell_type": "markdown",
      "metadata": {
        "id": "view-in-github",
        "colab_type": "text"
      },
      "source": [
        "<a href=\"https://colab.research.google.com/github/jessicaca0826/Python_exercise/blob/main/Python_%E7%A8%8B%E5%BC%8F%E8%A8%AD%E8%A8%88%E5%9F%BA%E7%A4%8E%E9%A4%8A%E6%88%90_%E6%95%99%E7%B7%B4%E5%B8%B6%E8%B7%91.ipynb\" target=\"_parent\"><img src=\"https://colab.research.google.com/assets/colab-badge.svg\" alt=\"Open In Colab\"/></a>"
      ]
    },
    {
      "cell_type": "code",
      "execution_count": null,
      "metadata": {
        "colab": {
          "base_uri": "https://localhost:8080/"
        },
        "id": "3TfMxFERdd3l",
        "outputId": "555a2f22-5efd-4d30-d2ef-303b7cd201c0"
      },
      "outputs": [
        {
          "output_type": "stream",
          "name": "stdout",
          "text": [
            "Input: hello world\n",
            "hello world\n",
            "Hello world\n"
          ]
        }
      ],
      "source": [
        "x=input('Input: ')\n",
        "print(x)\n",
        "print('Hello world')"
      ]
    },
    {
      "cell_type": "code",
      "source": [
        "#請試著建立一個Python程式碼，試著在畫面上印出「Hello _______」，底線部分由使用者自行輸入。\n",
        "s=input('Please enter a word: ')\n",
        "prefix='Hello'\n",
        "print('1. '+prefix+\" \"+s)\n",
        "print('2.',prefix,s)\n",
        "\n",
        "# str.join(iterable)\n",
        "# 用於將序列中的元素以指定的字元連結，並產生一個新的字串\n",
        "word=['Hello']\n",
        "word.append(s)\n",
        "print('3.',' '.join(word))"
      ],
      "metadata": {
        "colab": {
          "base_uri": "https://localhost:8080/"
        },
        "id": "CqYuG4lRecgW",
        "outputId": "3bf17671-e848-4130-94a9-68a5619f5684"
      },
      "execution_count": null,
      "outputs": [
        {
          "output_type": "stream",
          "name": "stdout",
          "text": [
            "Please enter a word: python\n",
            "1. Hello python\n",
            "2. Hello python\n",
            "3. Hello python\n"
          ]
        }
      ]
    },
    {
      "cell_type": "markdown",
      "source": [],
      "metadata": {
        "id": "fbKzWUMwtdkM"
      }
    },
    {
      "cell_type": "markdown",
      "source": [
        "---\n",
        "**1. 請問「=」運算的行為的是什麼？以下程式碼會印出的結果是什麼？**\n",
        "\n",
        "**x = 123**\n",
        "\n",
        "**y = 456**\n",
        "\n",
        "**x = y**\n",
        "\n",
        "**y = 789**\n",
        "\n",
        "**print(x)**\n",
        "\n",
        "**print(y)**\n",
        "\n",
        "'='表示賦值，將等號右邊的值存入等號左邊的變數中\n",
        "\n",
        "print(x)印出456、print(y)印出789\n",
        "\n",
        "---\n",
        "**2. 在 Python 中，'\\*'跟'\\*\\*'運算分別代表什麼，哪一個運算優先順序比較高？**\n",
        "\n",
        "\\*為乘法運算子，\\*\\*為次方運算子，次方運算子的優先順序較高\n",
        "\n",
        "---\n",
        "**3. 在 Python 中，請問「/」跟「//」運算分別代表什麼，哪一個運算優先順序比較高？**\n",
        "\n",
        "/為除法運算子，結果會返回浮點數，//為整數除法運算子，結果會返回整數，兩個運算子的優先順序一樣高\n",
        "\n",
        "---\n",
        "**4. 該如何把「4.3」變成整數型態？該如何把「3」變成浮點數型態呢？**\n",
        "\n",
        "可以使用int()函式將浮點數變成整數，可以使用float()函式將整數變成浮點數\n",
        "\n",
        "---\n",
        "**5. 如果在程式中看到這個錯誤「NameError: name 'n' is not defined」可能的原因是什麼？**\n",
        "\n",
        "變數n還沒被定義或賦值"
      ],
      "metadata": {
        "id": "7DehSpYPFOeP"
      }
    },
    {
      "cell_type": "code",
      "source": [
        "#練習：讓使用者輸入兩個數字，並且將輸出的結果加總後印出。\n",
        "\n",
        "# Requirements：\n",
        "#1. 輸入分別輸入兩個數字存到 x, y 變數\n",
        "#2. 請將 x 和 y 變數加總後存入 sum 變數\n",
        "#3. 在畫面上印出 sum 的結果\n",
        "# Sample Input： 123 456.789 ← 使用者輸入\n",
        "# Sample Output： 579.789 ← 畫面輸出\n",
        "\n",
        "# eval\n",
        "x, y = eval(input('Please enter the first number:')), eval(input('Please enter the second number:'))\n",
        "print('The sum of the numbers is',x+y)\n",
        "\n",
        "# 不確定輸入值會是整數或浮點數時，可以一致轉換成浮點數做運算\n",
        "x,y=float(input('Please enter the first number:')),float(input('Please enter the second number:'))\n",
        "print('The sum of the numbers is',x+y)"
      ],
      "metadata": {
        "colab": {
          "base_uri": "https://localhost:8080/"
        },
        "id": "4W8_7JemFMZx",
        "outputId": "d20db9cf-db67-446b-c1d9-0d44e8c68eb1"
      },
      "execution_count": null,
      "outputs": [
        {
          "output_type": "stream",
          "name": "stdout",
          "text": [
            "first num:123\n",
            "second num:456.789\n",
            "123 + 456.789 = 579.789\n",
            "Please enter the first number:456\n",
            "Please enter the second number:789.123\n",
            "The sum of the numbers is 1245.123\n",
            "Please enter the first number:456\n",
            "Please enter the second number:123.789\n",
            "The sum of the numbers is 579.789\n"
          ]
        }
      ]
    },
    {
      "cell_type": "code",
      "source": [
        "# 練習：請輸入兩個整數存入變數 a, b ，利用程式將兩個變數當中的數值進行交換。\n",
        "\n",
        "# Requirements：\n",
        "#1. 輸入兩個正整數存入變數 a, b\n",
        "#2. 請輸出 a, b 變數內容交換後的結果（不是輸出順序交換而已）\n",
        "#3. 程式當中不可以使用 if 或 loop\n",
        "# Sample Input： 5 10 ← 使用者輸入\n",
        "# Sample Output： 10 5 ← 畫面輸出\n",
        "\n",
        "a,b=int(input('Please enter the first integer a:')),int(input('Please enter the second integer b:'))\n",
        "print('a==',a,'b=',b)\n",
        "a,b=b,a\n",
        "print('Reversed:','a==',a,'b=',b)"
      ],
      "metadata": {
        "colab": {
          "base_uri": "https://localhost:8080/"
        },
        "id": "Jr1jPcWLMYrE",
        "outputId": "22693928-4134-442a-a878-d1216409ab78"
      },
      "execution_count": null,
      "outputs": [
        {
          "output_type": "stream",
          "name": "stdout",
          "text": [
            "a=5\n",
            "b=10\n",
            "a= 5 ,b= 10\n",
            "a= 10 ,b= 5\n",
            "Please enter the first integer a:5\n",
            "Please enter the second integer b:10\n",
            "a== 5 b= 10\n",
            "Reversed: a== 10 b= 5\n"
          ]
        }
      ]
    },
    {
      "cell_type": "markdown",
      "source": [
        "---\n",
        "**1. 請問字串型態中「'...'」跟「\"...\"」中單、雙引號有什麼差別，使用上該如何選擇？**\n",
        "  \n",
        "  單引號與雙引號兩種用法並沒有差別，但當字串內容本身就包含引號時，字串內容的引號必須與包圍字串的引號不同\n",
        "  ex, s='He said \"Hello!\"'\n",
        "\n",
        "---\n",
        "**2. 在 Python 使用 s[3:8] 會取出 s 字串中的哪些字串？該怎麼解釋這個語法？**\n",
        "\n",
        "  此語法稱為切片，且s[3:8]會取出字串s索引值3到索引7的新字串\n",
        "  此語法有3個參數，舉例來說，s[first,end,step]，第一個參數first表示開始切片的索引位置，第二個參數表示結束切片的索引位置，但不包含此位置所對應的字元，第三個參數step代表的是擷取字元的步數，其邏輯為擷取從第一個參數索引值到第二個參數索引值(但不包含第二個參數索引值)的每個字元所組成的子字串\n",
        "  ex, s='Hello world', s[3:8]會取得'lo wo'\n",
        "\n",
        "---\n",
        "**3. 在 Python 使用 s[::-1] 會取出 s 字串中的哪些字串？該怎麼解釋這個語法？**\n",
        "\n",
        "  s[::-1]會返回倒序的s，這個語法表示擷取整個字串s，但第三個參數-1表示需要以倒序的方式擷取\n",
        "  ex, s='Hello', s[::-1]會取得'olleH'\n",
        "\n",
        "---\n",
        "**4. 在 Python 使用 s[0:len(s):-1] 會取出 s 字串中的哪些字串？該怎麼解釋這個語法？**\n",
        "\n",
        "  返回空字串\n",
        "  \n",
        "---\n",
        "**5. 請問 Python 中的字串型態是 mutable 還是 immutable？該怎麼判斷呢？**\n",
        "\n",
        "  immutable，任意修改字串內的字元會觸發TypeError\n"
      ],
      "metadata": {
        "id": "M-RztGGqYOuo"
      }
    },
    {
      "cell_type": "code",
      "source": [
        "#練習：將字串當中的 not that poor 換成 good 。\n",
        "\n",
        "#Requirements：\n",
        "\n",
        "#1. 輸入一個包含「not that poor」的字串\n",
        "#2. 在程式中 not that poor 換成 good 後輸出\n",
        "# Sample Input： The company is not that poor! ← 使用者輸入\n",
        "# Sample Output： The company is good! ←\n",
        "\n",
        "#replace()\n",
        "s=input('Enter a sentence included \"not that poor\":')\n",
        "print(s.replace('not that poor','good'))\n",
        "\n",
        "# 正規化模組re的sub()與replace()函數功能相同\n",
        "# re.sub(pattern,replacement,string)\n",
        "import re\n",
        "s1=s\n",
        "s1=re.sub('not that poor','good',s1)\n",
        "print(s1)"
      ],
      "metadata": {
        "colab": {
          "base_uri": "https://localhost:8080/"
        },
        "id": "lWx-gxLTYOVT",
        "outputId": "f0605a7d-f78f-463d-aabf-9e42051afc56"
      },
      "execution_count": null,
      "outputs": [
        {
          "output_type": "stream",
          "name": "stdout",
          "text": [
            "Enter a sentence included \"not that poor\":The company is not that poor!\n",
            "The company is good!\n",
            "Enter a sentence included \"not that poor\":The company is not that poor!\n",
            "The company is good!\n",
            "The company is good!\n"
          ]
        }
      ]
    },
    {
      "cell_type": "code",
      "source": [
        "#練習：試著用 Python 將網址當中的 domain 取出來。\n",
        "\n",
        "# Requirements：\n",
        "\n",
        "#1. 讓使用者可以輸入一個網址\n",
        "#2. 利用程式取出網址當中的 domain 後輸出\n",
        "# Sample Input： https://www.facebook.com/dscareer ← 使用者輸入\n",
        "# Sample Output： www.facebook.com ← 畫面輸出\n",
        "\n",
        "#split()\n",
        "s=input('Please enter a web address:')\n",
        "domain=s.split('/')[2]\n",
        "print(domain)\n",
        "\n",
        "# re.search\n",
        "# re.split\n",
        "import re\n",
        "s1=s\n",
        "domain=re.search(r'[https:\\/]*([\\w\\.]*)',s1)\n",
        "print(domain)\n",
        "domain=re.split(r'\\/',s)[2]\n",
        "print(domain)"
      ],
      "metadata": {
        "colab": {
          "base_uri": "https://localhost:8080/"
        },
        "id": "yIG6bl_lVK72",
        "outputId": "20303744-47d6-4076-e977-f6421dcfe40f"
      },
      "execution_count": null,
      "outputs": [
        {
          "output_type": "stream",
          "name": "stdout",
          "text": [
            "Please enter a web address:# Sample Input： https://www.facebook.com/dscareer ← 使用者輸入\n",
            "www.facebook.com\n",
            "www.facebook.com\n",
            "<re.Match object; span=(0, 0), match=''>\n",
            "www.facebook.com\n"
          ]
        }
      ]
    },
    {
      "cell_type": "markdown",
      "source": [
        "**1. 請問 List 是 Python 中常見的容器型態，他跟一般的 int、float 這類型態有什麼不同嗎？**\n",
        "\n",
        "(1.)字串、數值等單元變數一次只能存放一個變數值，但列表、元祖、字典、集合等容器型態的變數一次可以儲存多個變數值\n",
        "\n",
        "(2.)單元型態的變數在創建後是無法被改變的，除非重新賦值\n",
        "\n",
        "\n",
        "---\n",
        "**2. 試著解釋 list 底下的 append 用法是什麼？（Hint: 可以利用 dir(list) 找到 append，再利用 help(list.append) 查詢怎麼使用）**\n",
        "\n",
        "list的append函數可以用來新增一個元素到列表的最後方\n",
        "語法為list.append(element)，element為要新增的元素，可以是一個單元變數也可以是一個容器。append函數會直接改變原來的列表。\n",
        "ex,\n",
        "l=[1,2,3]\n",
        "l.append(4)\n",
        "print(l) 返回[1,2,3,4]\n",
        "l.append([5,6])\n",
        "print(l) 返回[1,2,3,4,[5,6]]\n",
        "\n",
        "\n",
        "---\n",
        "**3. 請問 list 當中的 append(...) 跟 extend(...) 有什麼不一樣的地方？**\n",
        "\n",
        "append()和extend()函數皆是用來添加新元素到列表的最後方，但append函數只能新增一個元素，而extend函數則是將另一個容器的元素依序新增到列表的最後方\n",
        "ex,\n",
        "a = [1, 2, 3]\n",
        "a.append([4, 5])  # a 變成 [1, 2, 3, [4, 5]]\n",
        "a.extend([6, 7])  # a 變成 [1, 2, 3, [4, 5], 6, 7]\n",
        "\n",
        "\n",
        "---\n",
        "**4. 請問 list 當中的 reverse(...) 跟 [::-1] 有什麼一樣和不一樣的地方？**\n",
        "\n",
        "兩個做法的目的皆為顛倒列表內元素的排序，但reverse函數會改變原本的列表，而[::-1]不會\n",
        "list.reverse()：這是一個方法，沒有返回值(返回 None)，會直接修改原始列表。\n",
        "[::-1]：這是一種切片操作，會返回一個新的列表，該列表的元素順序是原列表的反向順序，原列表保持不變。\n",
        "ex,\n",
        "a = [1, 2, 3]\n",
        "a.reverse()  # a 變成 [3, 2, 1]\n",
        "\n",
        "b = [1, 2, 3]\n",
        "c = b[::-1]  # b 仍然是 [1, 2, 3]，c 變成 [3, 2, 1]\n",
        "\n",
        "\n",
        "---\n",
        "**5. 請問如果直接用以下方法複製 List，可能會存在什麼疑慮嗎？**\n",
        "\n",
        "a = [1, 2, 3, 4, 5]\n",
        "b = a\n",
        "這種複製方法表示變數a和變數b都指向同一個物件，因此當改變變數b的內容時，變數a也會跟著改變。\n",
        "這樣的複製稱為「淺複製」（shallow copy），如果List中的元素是可變物件（如其他 List），那麼更改這些元素也會影響到原始 List。為了避免這樣的問題，可以使用copy() 方法或 copy 模組中的 deepcopy 函數來進行深複製。\n"
      ],
      "metadata": {
        "id": "6wbVEG_MdivX"
      }
    },
    {
      "cell_type": "code",
      "source": [
        "#練習：元素位置異動\n",
        "\n",
        "# Requirements：\n",
        "# 1. 建立一個列表（List）初始化為 1, 2... 9 的元素\n",
        "# 2. 利用程式將最右邊的元素移動到最左邊邊\n",
        "# 3. 最後請將移動的結果印出\n",
        "# Sample Input： [1, 2, 3, 4, 5, 6, 7, 8, 9] ← 預設初始化\n",
        "# Sample Output： [9, 1, 2, 3, 4, 5, 6, 7, 8] ← 畫面輸出\n",
        "\n",
        "# pop()\n",
        "l=[i for i in range(1,10)]\n",
        "pop=[]\n",
        "pop.append(l.pop())\n",
        "pop.extend(l)\n",
        "print('first try:',pop)\n",
        "\n",
        "# insert()\n",
        "l=[i for i in range(1,10)]\n",
        "pop=l.pop()\n",
        "l.insert(0,pop)\n",
        "print('second try:',l)\n",
        "\n",
        "#deque\n",
        "import collections\n",
        "l=[i for i in range(1,10)]\n",
        "d=collections.deque(l)\n",
        "d.rotate(1)\n",
        "print('third try:',list(d))\n",
        "\n",
        "# slice\n",
        "l=[i for i in range(1,10)]\n",
        "l=[l[-1]]+l[:-1]\n",
        "print('forth try:',l)"
      ],
      "metadata": {
        "id": "saClr9MWaMwS",
        "colab": {
          "base_uri": "https://localhost:8080/"
        },
        "outputId": "57578d6a-4749-4078-e2d6-47dc68f91388"
      },
      "execution_count": null,
      "outputs": [
        {
          "output_type": "stream",
          "name": "stdout",
          "text": [
            "[9, 1, 2, 3, 4, 5, 6, 7, 8]\n",
            "[9, 1, 2, 3, 4, 5, 6, 7, 8]\n",
            "[9, 1, 2, 3, 4, 5, 6, 7, 8]\n",
            "[9, 1, 2, 3, 4, 5, 6, 7, 8]\n",
            "first try: [9, 1, 2, 3, 4, 5, 6, 7, 8]\n",
            "second try: [9, 1, 2, 3, 4, 5, 6, 7, 8]\n",
            "third try: [9, 1, 2, 3, 4, 5, 6, 7, 8]\n",
            "forth try: [9, 1, 2, 3, 4, 5, 6, 7, 8]\n"
          ]
        }
      ]
    },
    {
      "cell_type": "markdown",
      "source": [
        "**1. 請比較 Python 中的四種容器彼此間差別是什麼？**\n",
        "\n",
        "**列表(list):**\n",
        "\n",
        "將元素用中括號包圍起來的容器型別，其中，元素可以是各種型別的值。\n",
        "\n",
        "為有序、可變(mutable)的容器型別，mutable表示可以新增、刪除、修改列表內的元素值\n",
        "\n",
        "舉例:\n",
        "\n",
        "l=[1,2,3]\n",
        "\n",
        "l[0]=4\n",
        "\n",
        "print(l)會返回[4,2,3]\n",
        "\n",
        "**元組(tuple):**\n",
        "\n",
        "將元素用小括號包圍，同列表，裡面的元素可以是各種型別的變數且有序，\n",
        "\n",
        "但元組不可變(immutable)，一旦被創建後就無法再修改其內容。\n",
        "\n",
        "舉例:\n",
        "\n",
        "t=(1,2,3)\n",
        "\n",
        "t[0]=4\n",
        "\n",
        "print(t)會觸發TypeError\n",
        "\n",
        "**字典(dictionary):**\n",
        "\n",
        "為一種鍵值對(key-value pairs)的資料型別，\n",
        "\n",
        "由大括號包圍一組以上鍵值對，鍵與值之間以冒號分隔，\n",
        "\n",
        "鍵具有唯一性且不可變。\n",
        "\n",
        "字典具有可變的特性，可以新增、刪除、修改鍵值對\n",
        "\n",
        "舉例:\n",
        "\n",
        "d={'name':'Jessica','age':31}\n",
        "\n",
        "d['name']='Emily'\n",
        "\n",
        "print(d)會返回 {'name':'Emily','age':31}\n",
        "\n",
        "**集合(set):**\n",
        "\n",
        "無序且元素不可重複的容器型別，元素由大括號包圍。\n",
        "\n",
        "可以新增、刪除集合內的元素，但無法修改元素值。\n",
        "\n",
        "集合常用於執行集合運算\n",
        "\n",
        "舉例:\n",
        "\n",
        "s={1,2,3}\n",
        "\n",
        "s.add(4)\n",
        "\n",
        "print(s) #返回{1,2,3,4}，順序可能會變\n",
        "\n",
        "---\n",
        "\n",
        "**2. 請解釋 Tuple 的「immutable」是什麼意思？**\n",
        "\n",
        "元組內的元素不可以被改變\n",
        "\n",
        "舉例:\n",
        "\n",
        "t=(1,2,3)\n",
        "\n",
        "t[0]=4\n",
        "\n",
        "print(t)會觸發TypeError\n",
        "\n",
        "---\n",
        "\n",
        "**3. 當存取字典中不存在的 Key，會發生什麼事？該如何解決？**\n",
        "\n",
        "**d = {1: 'a'}**\n",
        "\n",
        "**print(d[2])**\n",
        "\n",
        "觸發KeyError\n",
        "\n",
        "*   get(key[,value]):可以使用get(key[,value])凾式來取值，當字典中找不到對應的鍵時，函式會返回參數value，參數預設為None\n",
        "\n",
        "*   setdefault(key[,nalue]):使用setdefault([,value])，當原本的字典找不到對應的鍵時，會新增一組由參數key和value所處成的鍵值對\n",
        "\n",
        "*   用if...else...結構\n",
        "\n",
        "---\n",
        "\n",
        "**4. 請問在 Python 中的 Dictionary 是否支援「+」運算？請解釋你的原因？**\n",
        "\n",
        "不支援，因為字典必須保證鍵具有唯一性\n",
        "\n",
        "---\n",
        "\n",
        "**5. Python 的集合是不允許存放列表的，你可以想想看為什麼嗎？**\n",
        "\n",
        "集合內的元素必須是不可變的，因為集合是無序的，你無法指定某個索引去改變它的元素值\n",
        "若添加列表進入集合內，會引發TypeError:Unhashable type: ‘list’"
      ],
      "metadata": {
        "id": "sIaRZxNFq0Wf"
      }
    },
    {
      "cell_type": "code",
      "source": [
        "{}#練習：請將不同的 dict 元素合併成一個 dict\n",
        "\n",
        "# Requirements：\n",
        "#1. 初始化三個 dict 分別為 {1:10, 2:20}, {3:30, 4:40}, {5:50, 6:60}\n",
        "#2. 利用程式將三個 dict 的結果合併之後輸出\n",
        "# Sample Input： {1:10, 2:20}, {3:30, 4:40}, {5:50, 6:60} ← 預設初始化\n",
        "# Sample Output： {1: 10, 2: 20, 3: 30, 4: 40, 5: 50, 6: 60} ← 畫面輸出\n",
        "\n",
        "d1={1:10,2:20}\n",
        "d2={3:30,4:40}\n",
        "d3={5:50,6:60}\n",
        "\n",
        "# dict comprehension\n",
        "d={k:v for i in [d1,d2,d3] for (k,v) in i.items()}\n",
        "print('first try:',d)\n",
        "\n",
        "d={keys:i[keys ]for i in [d1,d2,d3] for keys in i.keys()}\n",
        "print('second try:',d)\n",
        "\n",
        "# update\n",
        "d={}\n",
        "for i in [d1,d2,d3]:\n",
        "  d.update(i)\n",
        "print('third try:',d)\n",
        "\n",
        "# list to dict\n",
        "temp=[]\n",
        "for i in [d1,d2,d3]:\n",
        "  temp.extend(i.items())\n",
        "print('forth try:',dict(temp))"
      ],
      "metadata": {
        "id": "EjpYD8LtkAZs",
        "colab": {
          "base_uri": "https://localhost:8080/"
        },
        "outputId": "57e03bd8-32f8-4e3b-952e-3dc6e1ea4205"
      },
      "execution_count": null,
      "outputs": [
        {
          "output_type": "stream",
          "name": "stdout",
          "text": [
            "first try: {1: 10, 2: 20, 3: 30, 4: 40, 5: 50, 6: 60}\n",
            "second try: {1: 10, 2: 20, 3: 30, 4: 40, 5: 50, 6: 60}\n",
            "third try: {1: 10, 2: 20, 3: 30, 4: 40, 5: 50, 6: 60}\n",
            "forth try: {1: 10, 2: 20, 3: 30, 4: 40, 5: 50, 6: 60}\n"
          ]
        }
      ]
    },
    {
      "cell_type": "code",
      "source": [
        "#練習：請將列表中重複的元素移除並且將元素由大到小排列\n",
        "# Requirements：\n",
        "\n",
        "#1. 在程式中初始化一個列表，其內容為 [1, 1, 3, 9, 7, 8, 8, 8]\n",
        "#2. 利用程式將列表中重複的元素移除\n",
        "#3. 最後請將剩餘元素由大至小排序後印出\n",
        "# Sample Input： [1, 1, 3, 9, 7, 8, 8, 8] ← 預設初始化\n",
        "# Sample Output： [9, 8, 7, 3, 1] ← 畫面輸出\n",
        "\n",
        "# set\n",
        "l=[1,1,3,9,7,8,8,8]\n",
        "l=list(set(l))\n",
        "l.sort(reverse=True)\n",
        "print('first try:',l)\n",
        "\n",
        "# sorted\n",
        "l=[1,1,3,9,7,8,8,8]\n",
        "l=sorted(list(set(l)),reverse=True)\n",
        "print('second try:',l)\n",
        "\n",
        "# lambda\n",
        "l=[1,1,3,9,7,8,8,8]\n",
        "d=dict.fromkeys(l) #產生一個預設value為None的字典，利用字典key的唯一性來達到元素不重複\n",
        "l=list(d.keys())\n",
        "l=sorted(l,key=lambda x:-x)\n",
        "print('third try:',l)"
      ],
      "metadata": {
        "colab": {
          "base_uri": "https://localhost:8080/"
        },
        "id": "HWJAdIcGxu0T",
        "outputId": "8c06dc61-f67a-450f-8803-254d8208b262"
      },
      "execution_count": null,
      "outputs": [
        {
          "output_type": "stream",
          "name": "stdout",
          "text": [
            "first try: [9, 8, 7, 3, 1]\n",
            "second try: [9, 8, 7, 3, 1]\n",
            "second try: [9, 8, 7, 3, 1]\n"
          ]
        }
      ]
    },
    {
      "cell_type": "markdown",
      "source": [
        "**1. 請簡單描述程式中必備的三種結構，以及他們的運作流程為何？**\n",
        "\n",
        "**Sequential(循序的):**\n",
        "在循序的程式結構中，電腦會從上到下、由左到右、由內到外，逐一執行表達式\n",
        "\n",
        "範例:\n",
        "\n",
        "```\n",
        "a=10\n",
        "b=a+10\n",
        "print(b) #返回20\n",
        "```\n",
        "\n",
        "**Conditional(條件的):**\n",
        "條件程式結構會有判斷表達式，用於根據不同的條件執行不同的程式碼段。\n",
        "\n",
        "其基本結構為，\n",
        "\n",
        "if condition 1:\n",
        "\n",
        "  code block 1\n",
        "\n",
        "elif condition 2:\n",
        "\n",
        "  code block2\n",
        "\n",
        "else:\n",
        "  code block n\n",
        "\n",
        "舉例:\n",
        "\n",
        "```\n",
        "if a==0:\n",
        "  print(a,'is zero')\n",
        "elif a%2==0:\n",
        "  print(a,'is even')\n",
        "else:\n",
        "  print(a,'is odd')\n",
        "```\n",
        "**Loop(遞迴的):**\n",
        "迴圈結構為重複執行一段相同的程式區塊，直到到達結束迴圈的條件為止\n",
        "\n",
        "迴圈包含for loop和while loop兩種類型\n",
        "\n",
        "for loop是透過指定的次數來控制迴圈的次數，例如元素個數\n",
        "\n",
        "舉例:\n",
        "\n",
        "```\n",
        "for i in range(10):\n",
        "  print(i)\n",
        "```\n",
        "而while則是透過判斷式來決定要不要繼續遞迴\n",
        "\n",
        "舉例:\n",
        "\n",
        "\n",
        "```\n",
        "i=0\n",
        "while i<10:\n",
        "  print(i)\n",
        "  i+=1\n",
        "```\n",
        "---\n",
        "\n",
        "**2. 請問以下描述會回傳什麼結果？**\n",
        "\n",
        "\n",
        "```\n",
        "x = 6\n",
        "y = 5\n",
        "z = 7\n",
        "print((x > y )and (y > z) or (y - z % 2 > x) or (z + x*6 > y**2))\n",
        "```\n",
        "回傳True\n",
        "\n",
        "---\n",
        "\n",
        "**3. 請問下方程式碼會回傳什麼結果？**\n",
        "```\n",
        "a = 10\n",
        "while a:\n",
        "    a = a - 1\n",
        "    print(a)\n",
        "```\n",
        "回傳\n",
        "\n",
        "9\n",
        "\n",
        "8\n",
        "\n",
        "7\n",
        "\n",
        "6\n",
        "\n",
        "5\n",
        "\n",
        "4\n",
        "\n",
        "3\n",
        "\n",
        "2\n",
        "\n",
        "1\n",
        "\n",
        "0\n",
        "\n",
        "---\n",
        "**4. 請問下方程式碼會回傳什麼結果？**\n",
        "~~~\n",
        "a = list(range(6))\n",
        "while a:\n",
        "    a.pop()\n",
        "    print(len(a))\n",
        "~~~\n",
        "回傳\n",
        "\n",
        "5\n",
        "\n",
        "4\n",
        "\n",
        "3\n",
        "\n",
        "2\n",
        "\n",
        "1\n",
        "\n",
        "0"
      ],
      "metadata": {
        "id": "NADzfdIew45X"
      }
    },
    {
      "cell_type": "code",
      "source": [
        "#練習：n! 階乘代表 1 * 2 * 3 ... * n 的乘積總和，請用 Python 程式實現 n! 計算。\n",
        "# Requirements：\n",
        "\n",
        "#1. 讓使用者可以自行輸入一個數字 n，請檢查 n 是否為合法數字否則回傳錯誤訊息\n",
        "#2. 利用程式計算 n! 的結果並且印在畫面上\n",
        "\n",
        "# Sample Input #01： 4 ← 使用者輸入\n",
        "# Sample Output #01： 24 ← 畫面輸出\n",
        "# Sample Input #02： a ← 使用者輸入\n",
        "# Sample Output #02： a 是一個不合法的輸入，無法運算 ← 畫面輸出\n",
        "\n",
        "def factorial(n):\n",
        "  try:\n",
        "    n=int(n)\n",
        "  except:\n",
        "    return n+'不是整數，無法計算階層'\n",
        "  if n<0:\n",
        "    return n+'小於0，無法計算階層'\n",
        "  elif n==0:\n",
        "    return 1\n",
        "  elif n==1:\n",
        "    return 1\n",
        "  else:\n",
        "    return n*factorial(n-1)\n",
        "\n",
        "def factorial2(n):\n",
        "  try:\n",
        "    n=int(n)\n",
        "    if n<0:\n",
        "      return n+'小於0，無法計算階層'\n",
        "    elif n==0:\n",
        "      return 1\n",
        "    else:\n",
        "      tmp=1\n",
        "      while n>1:\n",
        "        tmp*=n\n",
        "        n-=1\n",
        "      return tmp\n",
        "  except ValueError:\n",
        "    return n+'不是整數，無法計算階層'\n",
        "\n",
        "user_enter=input('Please enter an integer:')\n",
        "result=factorial(user_enter)\n",
        "print('first try:',result)\n",
        "\n",
        "result=factorial2(user_enter)\n",
        "print('second try:',result)"
      ],
      "metadata": {
        "id": "ZgYNtjFjxuyy",
        "colab": {
          "base_uri": "https://localhost:8080/"
        },
        "outputId": "18682531-4dcd-46fd-f9d4-22d12d652db1"
      },
      "execution_count": 3,
      "outputs": [
        {
          "output_type": "stream",
          "name": "stdout",
          "text": [
            "Please enter an integer:5\n",
            "first try: 120\n",
            "second try: 120\n"
          ]
        }
      ]
    },
    {
      "cell_type": "code",
      "source": [
        "#練習：奇偶數分堆\n",
        "\n",
        "# Requirements：\n",
        "\n",
        "#1. 建立一個列表（List ）初始化為 0, 1, 2... 9 的元素\n",
        "#2. 請利用條件判斷與迴圈將 List 中的奇數放在前面、偶數放在後面\n",
        "#3. 最後請將分堆後的結果印出\n",
        "\n",
        "# Sample Input： [0, 1, 2, 3, 4, 5, 6, 7, 8, 9] ← 預設初始化\n",
        "# Sample Output： [1, 3, 5, 7, 9, 0, 2, 4, 6, 8] ← 畫面輸出\n",
        "\n",
        "L=[l for l in range(10)]\n",
        "even=[]\n",
        "for l in L:\n",
        "  if l%2==0:\n",
        "    even.append(l)\n",
        "for r in even:\n",
        "  L.remove(r)\n",
        "L.extend(even)\n",
        "print('first try:',L)\n",
        "\n",
        "L=[l for l in range(10)]\n",
        "L=[l for l in L if l%2!=0]+[l for l in L if l%2==0]\n",
        "print('second try:',L)"
      ],
      "metadata": {
        "colab": {
          "base_uri": "https://localhost:8080/"
        },
        "id": "VevJ5GNWoVnN",
        "outputId": "5759598c-3eb0-4b8a-eb6a-811e9441293a"
      },
      "execution_count": null,
      "outputs": [
        {
          "output_type": "stream",
          "name": "stdout",
          "text": [
            "first try: [1, 3, 5, 7, 9, 0, 2, 4, 6, 8]\n",
            "second try: [1, 3, 5, 7, 9, 0, 2, 4, 6, 8]\n"
          ]
        }
      ]
    },
    {
      "cell_type": "code",
      "source": [
        "from sre_constants import RANGE\n",
        "#練習：階乘總和\n",
        "\n",
        "# Requirements：\n",
        "\n",
        "#1. 利用迴圈讓使用者可以重複輸入一個數字 n\n",
        "\n",
        "#2. 利用程式計算 1! + 2! + 3! + ... + n! 的總和\n",
        "\n",
        "#3. 每一個回合請將階乘總和的結果印出\n",
        "\n",
        "# Sample Input： 4 ← 使用者輸入\n",
        "\n",
        "# Sample Output： 33 ← 畫面輸出\n",
        "\n",
        "def factorial(n):\n",
        "  if n==0:\n",
        "    return 1\n",
        "  elif n==1:\n",
        "    return 1\n",
        "  else:\n",
        "    return n*factorial(n-1)\n",
        "\n",
        "while True:\n",
        "  sum=0\n",
        "  try:\n",
        "    n=int(input('Please enter an integer:'))\n",
        "  except ValueError:\n",
        "    print(n, 'is not an integer.')\n",
        "  if n<0:\n",
        "    print('stop calculation.')\n",
        "    break\n",
        "  elif n==0:\n",
        "    print('factorial sum of',n,'=',1)\n",
        "  else:\n",
        "    for i in range(n):\n",
        "      sum+=factorial(i+1)\n",
        "    print('factorial sum of',n,'=',sum)\n"
      ],
      "metadata": {
        "id": "gE_FoIDWoVlr",
        "colab": {
          "base_uri": "https://localhost:8080/"
        },
        "outputId": "e90d5a85-3b78-4b13-ec98-256c595f61f3"
      },
      "execution_count": 19,
      "outputs": [
        {
          "output_type": "stream",
          "name": "stdout",
          "text": [
            "Please enter an integer:10\n",
            "factorial sum of 10 = 4037913\n",
            "Please enter an integer:0\n",
            "factorial sum of 0 = 1\n",
            "Please enter an integer:-1\n",
            "stop calculation.\n"
          ]
        }
      ]
    }
  ]
}